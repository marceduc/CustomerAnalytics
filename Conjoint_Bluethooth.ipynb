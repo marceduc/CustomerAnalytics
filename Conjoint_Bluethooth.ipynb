{
 "cells": [
  {
   "cell_type": "markdown",
   "metadata": {},
   "source": [
    "<h1>Customer Analytics and Customer Insight</h1>\n",
    "<h2>Conjoint Analysis on Preferences and Segments in the Portable Bluetooth Speaker Market</h2>"
   ]
  },
  {
   "cell_type": "markdown",
   "metadata": {},
   "source": [
    "Choice data set"
   ]
  },
  {
   "cell_type": "code",
   "execution_count": 1,
   "metadata": {},
   "outputs": [
    {
     "data": {
      "text/html": [
       "<table>\n",
       "<thead><tr><th scope=col>X</th><th scope=col>id</th><th scope=col>cs</th><th scope=col>alt</th><th scope=col>choice</th><th scope=col>none</th><th scope=col>price</th><th scope=col>battery1</th><th scope=col>battery2</th><th scope=col>battery3</th><th scope=col>battery4</th><th scope=col>weight1</th><th scope=col>weight2</th><th scope=col>weight3</th><th scope=col>sound1</th><th scope=col>sound2</th><th scope=col>sound3</th></tr></thead>\n",
       "<tbody>\n",
       "\t<tr><td> 97</td><td>11 </td><td>1  </td><td>1  </td><td>0  </td><td>0  </td><td> 7 </td><td> 0 </td><td> 1 </td><td> 0 </td><td> 0 </td><td> 1 </td><td> 0 </td><td> 0 </td><td> 0 </td><td> 0 </td><td> 1 </td></tr>\n",
       "\t<tr><td> 98</td><td>11 </td><td>1  </td><td>2  </td><td>0  </td><td>0  </td><td>15 </td><td> 1 </td><td> 0 </td><td> 0 </td><td> 0 </td><td> 0 </td><td> 0 </td><td> 1 </td><td> 1 </td><td> 0 </td><td> 0 </td></tr>\n",
       "\t<tr><td> 99</td><td>11 </td><td>1  </td><td>3  </td><td>1  </td><td>0  </td><td>11 </td><td> 0 </td><td> 0 </td><td> 1 </td><td> 0 </td><td> 1 </td><td> 0 </td><td> 0 </td><td>-1 </td><td>-1 </td><td>-1 </td></tr>\n",
       "\t<tr><td>100</td><td>11 </td><td>1  </td><td>4  </td><td>0  </td><td>1  </td><td> 0 </td><td> 0 </td><td> 0 </td><td> 0 </td><td> 0 </td><td> 0 </td><td> 0 </td><td> 0 </td><td> 0 </td><td> 0 </td><td> 0 </td></tr>\n",
       "\t<tr><td>101</td><td>11 </td><td>2  </td><td>1  </td><td>0  </td><td>0  </td><td> 7 </td><td> 0 </td><td> 1 </td><td> 0 </td><td> 0 </td><td> 0 </td><td> 1 </td><td> 0 </td><td> 1 </td><td> 0 </td><td> 0 </td></tr>\n",
       "\t<tr><td>102</td><td>11 </td><td>2  </td><td>2  </td><td>0  </td><td>0  </td><td> 9 </td><td>-1 </td><td>-1 </td><td>-1 </td><td>-1 </td><td>-1 </td><td>-1 </td><td>-1 </td><td> 0 </td><td> 1 </td><td> 0 </td></tr>\n",
       "</tbody>\n",
       "</table>\n"
      ],
      "text/latex": [
       "\\begin{tabular}{r|lllllllllllllllll}\n",
       " X & id & cs & alt & choice & none & price & battery1 & battery2 & battery3 & battery4 & weight1 & weight2 & weight3 & sound1 & sound2 & sound3\\\\\n",
       "\\hline\n",
       "\t  97 & 11  & 1   & 1   & 0   & 0   &  7  &  0  &  1  &  0  &  0  &  1  &  0  &  0  &  0  &  0  &  1 \\\\\n",
       "\t  98 & 11  & 1   & 2   & 0   & 0   & 15  &  1  &  0  &  0  &  0  &  0  &  0  &  1  &  1  &  0  &  0 \\\\\n",
       "\t  99 & 11  & 1   & 3   & 1   & 0   & 11  &  0  &  0  &  1  &  0  &  1  &  0  &  0  & -1  & -1  & -1 \\\\\n",
       "\t 100 & 11  & 1   & 4   & 0   & 1   &  0  &  0  &  0  &  0  &  0  &  0  &  0  &  0  &  0  &  0  &  0 \\\\\n",
       "\t 101 & 11  & 2   & 1   & 0   & 0   &  7  &  0  &  1  &  0  &  0  &  0  &  1  &  0  &  1  &  0  &  0 \\\\\n",
       "\t 102 & 11  & 2   & 2   & 0   & 0   &  9  & -1  & -1  & -1  & -1  & -1  & -1  & -1  &  0  &  1  &  0 \\\\\n",
       "\\end{tabular}\n"
      ],
      "text/markdown": [
       "\n",
       "X | id | cs | alt | choice | none | price | battery1 | battery2 | battery3 | battery4 | weight1 | weight2 | weight3 | sound1 | sound2 | sound3 | \n",
       "|---|---|---|---|---|---|\n",
       "|  97 | 11  | 1   | 1   | 0   | 0   |  7  |  0  |  1  |  0  |  0  |  1  |  0  |  0  |  0  |  0  |  1  | \n",
       "|  98 | 11  | 1   | 2   | 0   | 0   | 15  |  1  |  0  |  0  |  0  |  0  |  0  |  1  |  1  |  0  |  0  | \n",
       "|  99 | 11  | 1   | 3   | 1   | 0   | 11  |  0  |  0  |  1  |  0  |  1  |  0  |  0  | -1  | -1  | -1  | \n",
       "| 100 | 11  | 1   | 4   | 0   | 1   |  0  |  0  |  0  |  0  |  0  |  0  |  0  |  0  |  0  |  0  |  0  | \n",
       "| 101 | 11  | 2   | 1   | 0   | 0   |  7  |  0  |  1  |  0  |  0  |  0  |  1  |  0  |  1  |  0  |  0  | \n",
       "| 102 | 11  | 2   | 2   | 0   | 0   |  9  | -1  | -1  | -1  | -1  | -1  | -1  | -1  |  0  |  1  |  0  | \n",
       "\n",
       "\n"
      ],
      "text/plain": [
       "  X   id cs alt choice none price battery1 battery2 battery3 battery4 weight1\n",
       "1  97 11 1  1   0      0     7     0        1        0        0        1     \n",
       "2  98 11 1  2   0      0    15     1        0        0        0        0     \n",
       "3  99 11 1  3   1      0    11     0        0        1        0        1     \n",
       "4 100 11 1  4   0      1     0     0        0        0        0        0     \n",
       "5 101 11 2  1   0      0     7     0        1        0        0        0     \n",
       "6 102 11 2  2   0      0     9    -1       -1       -1       -1       -1     \n",
       "  weight2 weight3 sound1 sound2 sound3\n",
       "1  0       0       0      0      1    \n",
       "2  0       1       1      0      0    \n",
       "3  0       0      -1     -1     -1    \n",
       "4  0       0       0      0      0    \n",
       "5  1       0       1      0      0    \n",
       "6 -1      -1       0      1      0    "
      ]
     },
     "metadata": {},
     "output_type": "display_data"
    }
   ],
   "source": [
    "data.cbceffect<-read.csv('choiceData_590506.csv')\n",
    "\n",
    "data.cbceffect$price<-data.cbceffect$price/10\n",
    "head(data.cbceffect)"
   ]
  },
  {
   "cell_type": "code",
   "execution_count": null,
   "metadata": {
    "collapsed": true
   },
   "outputs": [],
   "source": [
    "library(gmnl)\n",
    "data_ml_bluetooth_effect=mlogit.data(data.cbceffect, choice = \"choice\", shape = \"long\",\n",
    "                                 id.var = \"id\", alt.var = \"alt\")\n",
    "\n",
    "mxl_bluetooth <- gmnl(choice ~ 0 + none+price+battery1+battery2+battery3+battery4+\n",
    "                    weight1+weight2+weight3+sound1+sound2+sound3, \n",
    "                  data = data_ml_bluetooth_effect, model = \"mixl\", correlation = FALSE, \n",
    "                  haltons = NULL, R = 2000, panel = TRUE, tol = 1e-12, print.level = 1,\n",
    "                  ranp = c(none = \"n\", price = \"n\", battery1 = \"n\", battery2 = \"n\",battery3 = \"n\",battery4 = \"n\", \n",
    "                           weight1 = \"n\", weight2 = \"n\",weight3 = \"n\", sound1 = \"n\", sound2 = \"n\", sound3 = \"n\"))\n"
   ]
  },
  {
   "cell_type": "code",
   "execution_count": null,
   "metadata": {
    "collapsed": true
   },
   "outputs": [],
   "source": [
    "mxl_betai = effect.gmnl(mxl_bluetooth)$mean\n",
    "mxl_betai<-subset(mxl_betai,mxl_betai[,2]<0)\n",
    "nrow(mxl_betai)\n",
    "write.csv(mxl_betai,file=\"ind_pref_price_neg.csv\",row.names=FALSE)\n",
    "\n",
    "indivData = read.csv('indivData_590506.csv')\n",
    "indivData = indivData[which(mxl_betai$price < 0),]\n",
    "write.csv(indivData_sub, \"indivData_sub_price_neg.csv\", row.names = F)\n",
    "head(mxl_betai)"
   ]
  },
  {
   "cell_type": "code",
   "execution_count": 10,
   "metadata": {},
   "outputs": [
    {
     "data": {
      "text/html": [
       "<table>\n",
       "<thead><tr><th scope=col>none</th><th scope=col>price</th><th scope=col>battery1</th><th scope=col>battery2</th><th scope=col>battery3</th><th scope=col>battery4</th><th scope=col>weight1</th><th scope=col>weight2</th><th scope=col>weight3</th><th scope=col>sound1</th><th scope=col>sound2</th><th scope=col>sound3</th><th scope=col>battery5</th><th scope=col>weight4</th><th scope=col>sound4</th></tr></thead>\n",
       "<tbody>\n",
       "\t<tr><td>-12.4370428</td><td>-0.56168985</td><td>-1.6588656 </td><td>-0.2015096 </td><td>0.1884520  </td><td>0.5537557  </td><td>0.7376991  </td><td>0.2381162  </td><td>-0.09342943</td><td>-3.0833268 </td><td>-0.4324235 </td><td>0.9010875  </td><td>1.1181675  </td><td>-0.8823858 </td><td>2.6146628  </td></tr>\n",
       "\t<tr><td>-12.4982362</td><td>-0.64491141</td><td>-0.7408493 </td><td>-0.2046929 </td><td>0.2118804  </td><td>0.5534250  </td><td>0.4516939  </td><td>0.1587443  </td><td> 0.04016417</td><td>-2.8379613 </td><td>-0.3882430 </td><td>0.9713326  </td><td>0.1802369  </td><td>-0.6506024 </td><td>2.2548717  </td></tr>\n",
       "\t<tr><td>-10.5555664</td><td>-0.05169533</td><td>-1.3462516 </td><td>-0.1926465 </td><td>0.2096073  </td><td>0.5834711  </td><td>0.7291077  </td><td>0.3308254  </td><td>-0.02169741</td><td>-3.4474058 </td><td>-0.8067364 </td><td>0.8953400  </td><td>0.7458196  </td><td>-1.0382357 </td><td>3.3588023  </td></tr>\n",
       "\t<tr><td> -5.1263237</td><td>-0.36217551</td><td>-1.3481889 </td><td>-0.2574588 </td><td>0.2076824  </td><td>0.5167001  </td><td>0.6833427  </td><td>0.4968326  </td><td> 0.02483880</td><td>-2.9199103 </td><td>-0.8453724 </td><td>1.0041165  </td><td>0.8812652  </td><td>-1.2050141 </td><td>2.7611662  </td></tr>\n",
       "\t<tr><td>-13.2687279</td><td>-0.74194118</td><td>-1.6332140 </td><td>-0.1998363 </td><td>0.1576263  </td><td>0.5582876  </td><td>1.0632011  </td><td>0.2196911  </td><td>-0.11231526</td><td>-1.4741027 </td><td>-0.2798607 </td><td>0.9185096  </td><td>1.1171364  </td><td>-1.1705769 </td><td>0.8354537  </td></tr>\n",
       "\t<tr><td>  0.4547102</td><td>-0.21835404</td><td>-1.6371675 </td><td>-0.2615920 </td><td>0.2387926  </td><td>0.6802894  </td><td>0.8795875  </td><td>0.3352366  </td><td>-0.23511110</td><td>-0.8796407 </td><td>-0.2930464 </td><td>0.8626974  </td><td>0.9796775  </td><td>-0.9797130 </td><td>0.3099897  </td></tr>\n",
       "</tbody>\n",
       "</table>\n"
      ],
      "text/latex": [
       "\\begin{tabular}{r|lllllllllllllll}\n",
       " none & price & battery1 & battery2 & battery3 & battery4 & weight1 & weight2 & weight3 & sound1 & sound2 & sound3 & battery5 & weight4 & sound4\\\\\n",
       "\\hline\n",
       "\t -12.4370428 & -0.56168985 & -1.6588656  & -0.2015096  & 0.1884520   & 0.5537557   & 0.7376991   & 0.2381162   & -0.09342943 & -3.0833268  & -0.4324235  & 0.9010875   & 1.1181675   & -0.8823858  & 2.6146628  \\\\\n",
       "\t -12.4982362 & -0.64491141 & -0.7408493  & -0.2046929  & 0.2118804   & 0.5534250   & 0.4516939   & 0.1587443   &  0.04016417 & -2.8379613  & -0.3882430  & 0.9713326   & 0.1802369   & -0.6506024  & 2.2548717  \\\\\n",
       "\t -10.5555664 & -0.05169533 & -1.3462516  & -0.1926465  & 0.2096073   & 0.5834711   & 0.7291077   & 0.3308254   & -0.02169741 & -3.4474058  & -0.8067364  & 0.8953400   & 0.7458196   & -1.0382357  & 3.3588023  \\\\\n",
       "\t  -5.1263237 & -0.36217551 & -1.3481889  & -0.2574588  & 0.2076824   & 0.5167001   & 0.6833427   & 0.4968326   &  0.02483880 & -2.9199103  & -0.8453724  & 1.0041165   & 0.8812652   & -1.2050141  & 2.7611662  \\\\\n",
       "\t -13.2687279 & -0.74194118 & -1.6332140  & -0.1998363  & 0.1576263   & 0.5582876   & 1.0632011   & 0.2196911   & -0.11231526 & -1.4741027  & -0.2798607  & 0.9185096   & 1.1171364   & -1.1705769  & 0.8354537  \\\\\n",
       "\t   0.4547102 & -0.21835404 & -1.6371675  & -0.2615920  & 0.2387926   & 0.6802894   & 0.8795875   & 0.3352366   & -0.23511110 & -0.8796407  & -0.2930464  & 0.8626974   & 0.9796775   & -0.9797130  & 0.3099897  \\\\\n",
       "\\end{tabular}\n"
      ],
      "text/markdown": [
       "\n",
       "none | price | battery1 | battery2 | battery3 | battery4 | weight1 | weight2 | weight3 | sound1 | sound2 | sound3 | battery5 | weight4 | sound4 | \n",
       "|---|---|---|---|---|---|\n",
       "| -12.4370428 | -0.56168985 | -1.6588656  | -0.2015096  | 0.1884520   | 0.5537557   | 0.7376991   | 0.2381162   | -0.09342943 | -3.0833268  | -0.4324235  | 0.9010875   | 1.1181675   | -0.8823858  | 2.6146628   | \n",
       "| -12.4982362 | -0.64491141 | -0.7408493  | -0.2046929  | 0.2118804   | 0.5534250   | 0.4516939   | 0.1587443   |  0.04016417 | -2.8379613  | -0.3882430  | 0.9713326   | 0.1802369   | -0.6506024  | 2.2548717   | \n",
       "| -10.5555664 | -0.05169533 | -1.3462516  | -0.1926465  | 0.2096073   | 0.5834711   | 0.7291077   | 0.3308254   | -0.02169741 | -3.4474058  | -0.8067364  | 0.8953400   | 0.7458196   | -1.0382357  | 3.3588023   | \n",
       "|  -5.1263237 | -0.36217551 | -1.3481889  | -0.2574588  | 0.2076824   | 0.5167001   | 0.6833427   | 0.4968326   |  0.02483880 | -2.9199103  | -0.8453724  | 1.0041165   | 0.8812652   | -1.2050141  | 2.7611662   | \n",
       "| -13.2687279 | -0.74194118 | -1.6332140  | -0.1998363  | 0.1576263   | 0.5582876   | 1.0632011   | 0.2196911   | -0.11231526 | -1.4741027  | -0.2798607  | 0.9185096   | 1.1171364   | -1.1705769  | 0.8354537   | \n",
       "|   0.4547102 | -0.21835404 | -1.6371675  | -0.2615920  | 0.2387926   | 0.6802894   | 0.8795875   | 0.3352366   | -0.23511110 | -0.8796407  | -0.2930464  | 0.8626974   | 0.9796775   | -0.9797130  | 0.3099897   | \n",
       "\n",
       "\n"
      ],
      "text/plain": [
       "  none        price       battery1   battery2   battery3  battery4  weight1  \n",
       "1 -12.4370428 -0.56168985 -1.6588656 -0.2015096 0.1884520 0.5537557 0.7376991\n",
       "2 -12.4982362 -0.64491141 -0.7408493 -0.2046929 0.2118804 0.5534250 0.4516939\n",
       "3 -10.5555664 -0.05169533 -1.3462516 -0.1926465 0.2096073 0.5834711 0.7291077\n",
       "4  -5.1263237 -0.36217551 -1.3481889 -0.2574588 0.2076824 0.5167001 0.6833427\n",
       "5 -13.2687279 -0.74194118 -1.6332140 -0.1998363 0.1576263 0.5582876 1.0632011\n",
       "6   0.4547102 -0.21835404 -1.6371675 -0.2615920 0.2387926 0.6802894 0.8795875\n",
       "  weight2   weight3     sound1     sound2     sound3    battery5  weight4   \n",
       "1 0.2381162 -0.09342943 -3.0833268 -0.4324235 0.9010875 1.1181675 -0.8823858\n",
       "2 0.1587443  0.04016417 -2.8379613 -0.3882430 0.9713326 0.1802369 -0.6506024\n",
       "3 0.3308254 -0.02169741 -3.4474058 -0.8067364 0.8953400 0.7458196 -1.0382357\n",
       "4 0.4968326  0.02483880 -2.9199103 -0.8453724 1.0041165 0.8812652 -1.2050141\n",
       "5 0.2196911 -0.11231526 -1.4741027 -0.2798607 0.9185096 1.1171364 -1.1705769\n",
       "6 0.3352366 -0.23511110 -0.8796407 -0.2930464 0.8626974 0.9796775 -0.9797130\n",
       "  sound4   \n",
       "1 2.6146628\n",
       "2 2.2548717\n",
       "3 3.3588023\n",
       "4 2.7611662\n",
       "5 0.8354537\n",
       "6 0.3099897"
      ]
     },
     "metadata": {},
     "output_type": "display_data"
    },
    {
     "data": {
      "text/html": [
       "<table>\n",
       "<thead><tr><th scope=col>none</th><th scope=col>price</th><th scope=col>battery1</th><th scope=col>battery2</th><th scope=col>battery3</th><th scope=col>battery4</th><th scope=col>battery5</th><th scope=col>sound1</th><th scope=col>sound2</th><th scope=col>sound3</th><th scope=col>sound4</th><th scope=col>weight1</th><th scope=col>weight2</th><th scope=col>weight3</th><th scope=col>weight4</th></tr></thead>\n",
       "<tbody>\n",
       "\t<tr><td>-12.4370428</td><td>-0.56168985</td><td>-1.6588656 </td><td>-0.2015096 </td><td>0.1884520  </td><td>0.5537557  </td><td>1.1181675  </td><td>-3.0833268 </td><td>-0.4324235 </td><td>0.9010875  </td><td>2.6146628  </td><td>0.7376991  </td><td>0.2381162  </td><td>-0.09342943</td><td>-0.8823858 </td></tr>\n",
       "\t<tr><td>-12.4982362</td><td>-0.64491141</td><td>-0.7408493 </td><td>-0.2046929 </td><td>0.2118804  </td><td>0.5534250  </td><td>0.1802369  </td><td>-2.8379613 </td><td>-0.3882430 </td><td>0.9713326  </td><td>2.2548717  </td><td>0.4516939  </td><td>0.1587443  </td><td> 0.04016417</td><td>-0.6506024 </td></tr>\n",
       "\t<tr><td>-10.5555664</td><td>-0.05169533</td><td>-1.3462516 </td><td>-0.1926465 </td><td>0.2096073  </td><td>0.5834711  </td><td>0.7458196  </td><td>-3.4474058 </td><td>-0.8067364 </td><td>0.8953400  </td><td>3.3588023  </td><td>0.7291077  </td><td>0.3308254  </td><td>-0.02169741</td><td>-1.0382357 </td></tr>\n",
       "\t<tr><td> -5.1263237</td><td>-0.36217551</td><td>-1.3481889 </td><td>-0.2574588 </td><td>0.2076824  </td><td>0.5167001  </td><td>0.8812652  </td><td>-2.9199103 </td><td>-0.8453724 </td><td>1.0041165  </td><td>2.7611662  </td><td>0.6833427  </td><td>0.4968326  </td><td> 0.02483880</td><td>-1.2050141 </td></tr>\n",
       "\t<tr><td>-13.2687279</td><td>-0.74194118</td><td>-1.6332140 </td><td>-0.1998363 </td><td>0.1576263  </td><td>0.5582876  </td><td>1.1171364  </td><td>-1.4741027 </td><td>-0.2798607 </td><td>0.9185096  </td><td>0.8354537  </td><td>1.0632011  </td><td>0.2196911  </td><td>-0.11231526</td><td>-1.1705769 </td></tr>\n",
       "\t<tr><td>  0.4547102</td><td>-0.21835404</td><td>-1.6371675 </td><td>-0.2615920 </td><td>0.2387926  </td><td>0.6802894  </td><td>0.9796775  </td><td>-0.8796407 </td><td>-0.2930464 </td><td>0.8626974  </td><td>0.3099897  </td><td>0.8795875  </td><td>0.3352366  </td><td>-0.23511110</td><td>-0.9797130 </td></tr>\n",
       "</tbody>\n",
       "</table>\n"
      ],
      "text/latex": [
       "\\begin{tabular}{r|lllllllllllllll}\n",
       " none & price & battery1 & battery2 & battery3 & battery4 & battery5 & sound1 & sound2 & sound3 & sound4 & weight1 & weight2 & weight3 & weight4\\\\\n",
       "\\hline\n",
       "\t -12.4370428 & -0.56168985 & -1.6588656  & -0.2015096  & 0.1884520   & 0.5537557   & 1.1181675   & -3.0833268  & -0.4324235  & 0.9010875   & 2.6146628   & 0.7376991   & 0.2381162   & -0.09342943 & -0.8823858 \\\\\n",
       "\t -12.4982362 & -0.64491141 & -0.7408493  & -0.2046929  & 0.2118804   & 0.5534250   & 0.1802369   & -2.8379613  & -0.3882430  & 0.9713326   & 2.2548717   & 0.4516939   & 0.1587443   &  0.04016417 & -0.6506024 \\\\\n",
       "\t -10.5555664 & -0.05169533 & -1.3462516  & -0.1926465  & 0.2096073   & 0.5834711   & 0.7458196   & -3.4474058  & -0.8067364  & 0.8953400   & 3.3588023   & 0.7291077   & 0.3308254   & -0.02169741 & -1.0382357 \\\\\n",
       "\t  -5.1263237 & -0.36217551 & -1.3481889  & -0.2574588  & 0.2076824   & 0.5167001   & 0.8812652   & -2.9199103  & -0.8453724  & 1.0041165   & 2.7611662   & 0.6833427   & 0.4968326   &  0.02483880 & -1.2050141 \\\\\n",
       "\t -13.2687279 & -0.74194118 & -1.6332140  & -0.1998363  & 0.1576263   & 0.5582876   & 1.1171364   & -1.4741027  & -0.2798607  & 0.9185096   & 0.8354537   & 1.0632011   & 0.2196911   & -0.11231526 & -1.1705769 \\\\\n",
       "\t   0.4547102 & -0.21835404 & -1.6371675  & -0.2615920  & 0.2387926   & 0.6802894   & 0.9796775   & -0.8796407  & -0.2930464  & 0.8626974   & 0.3099897   & 0.8795875   & 0.3352366   & -0.23511110 & -0.9797130 \\\\\n",
       "\\end{tabular}\n"
      ],
      "text/markdown": [
       "\n",
       "none | price | battery1 | battery2 | battery3 | battery4 | battery5 | sound1 | sound2 | sound3 | sound4 | weight1 | weight2 | weight3 | weight4 | \n",
       "|---|---|---|---|---|---|\n",
       "| -12.4370428 | -0.56168985 | -1.6588656  | -0.2015096  | 0.1884520   | 0.5537557   | 1.1181675   | -3.0833268  | -0.4324235  | 0.9010875   | 2.6146628   | 0.7376991   | 0.2381162   | -0.09342943 | -0.8823858  | \n",
       "| -12.4982362 | -0.64491141 | -0.7408493  | -0.2046929  | 0.2118804   | 0.5534250   | 0.1802369   | -2.8379613  | -0.3882430  | 0.9713326   | 2.2548717   | 0.4516939   | 0.1587443   |  0.04016417 | -0.6506024  | \n",
       "| -10.5555664 | -0.05169533 | -1.3462516  | -0.1926465  | 0.2096073   | 0.5834711   | 0.7458196   | -3.4474058  | -0.8067364  | 0.8953400   | 3.3588023   | 0.7291077   | 0.3308254   | -0.02169741 | -1.0382357  | \n",
       "|  -5.1263237 | -0.36217551 | -1.3481889  | -0.2574588  | 0.2076824   | 0.5167001   | 0.8812652   | -2.9199103  | -0.8453724  | 1.0041165   | 2.7611662   | 0.6833427   | 0.4968326   |  0.02483880 | -1.2050141  | \n",
       "| -13.2687279 | -0.74194118 | -1.6332140  | -0.1998363  | 0.1576263   | 0.5582876   | 1.1171364   | -1.4741027  | -0.2798607  | 0.9185096   | 0.8354537   | 1.0632011   | 0.2196911   | -0.11231526 | -1.1705769  | \n",
       "|   0.4547102 | -0.21835404 | -1.6371675  | -0.2615920  | 0.2387926   | 0.6802894   | 0.9796775   | -0.8796407  | -0.2930464  | 0.8626974   | 0.3099897   | 0.8795875   | 0.3352366   | -0.23511110 | -0.9797130  | \n",
       "\n",
       "\n"
      ],
      "text/plain": [
       "  none        price       battery1   battery2   battery3  battery4  battery5 \n",
       "1 -12.4370428 -0.56168985 -1.6588656 -0.2015096 0.1884520 0.5537557 1.1181675\n",
       "2 -12.4982362 -0.64491141 -0.7408493 -0.2046929 0.2118804 0.5534250 0.1802369\n",
       "3 -10.5555664 -0.05169533 -1.3462516 -0.1926465 0.2096073 0.5834711 0.7458196\n",
       "4  -5.1263237 -0.36217551 -1.3481889 -0.2574588 0.2076824 0.5167001 0.8812652\n",
       "5 -13.2687279 -0.74194118 -1.6332140 -0.1998363 0.1576263 0.5582876 1.1171364\n",
       "6   0.4547102 -0.21835404 -1.6371675 -0.2615920 0.2387926 0.6802894 0.9796775\n",
       "  sound1     sound2     sound3    sound4    weight1   weight2   weight3    \n",
       "1 -3.0833268 -0.4324235 0.9010875 2.6146628 0.7376991 0.2381162 -0.09342943\n",
       "2 -2.8379613 -0.3882430 0.9713326 2.2548717 0.4516939 0.1587443  0.04016417\n",
       "3 -3.4474058 -0.8067364 0.8953400 3.3588023 0.7291077 0.3308254 -0.02169741\n",
       "4 -2.9199103 -0.8453724 1.0041165 2.7611662 0.6833427 0.4968326  0.02483880\n",
       "5 -1.4741027 -0.2798607 0.9185096 0.8354537 1.0632011 0.2196911 -0.11231526\n",
       "6 -0.8796407 -0.2930464 0.8626974 0.3099897 0.8795875 0.3352366 -0.23511110\n",
       "  weight4   \n",
       "1 -0.8823858\n",
       "2 -0.6506024\n",
       "3 -1.0382357\n",
       "4 -1.2050141\n",
       "5 -1.1705769\n",
       "6 -0.9797130"
      ]
     },
     "metadata": {},
     "output_type": "display_data"
    }
   ],
   "source": [
    "library(ggplot2)\n",
    "library(reshape2)\n",
    "library(stringr)\n",
    "library(rpart)\n",
    "library(rpart.plot)\n",
    "library(randomForest)\n",
    "\n",
    "ind_pref = read.csv(\"ind_pref_price_neg.csv\")\n",
    "cols = names(ind_pref)\n",
    "\n",
    "add_ommited_pw = function(ind_pref, att_name, cols){\n",
    "    #adds part worths(pw) for the ommited attribute levels to the preference dataframe\n",
    "  attribute_cols = cols[grep(att_name, cols)]\n",
    "  new_col_name =  paste0(att_name, as.character(max(grep(\"[0-9]\", attribute_cols)) + 1))\n",
    "  ind_pref[, new_col_name] =  0 - rowSums(ind_pref[,attribute_cols])\n",
    "  return(ind_pref)\n",
    "}  \n",
    "\n",
    "for(att in c(\"battery\", \"weight\", \"sound\")){\n",
    "  ind_pref = add_ommited_pw(ind_pref, att, cols = cols)\n",
    "}\n",
    "\n",
    "PW = ind_pref[,3:15]\n",
    "PW = PW[, order(names(PW))]\n",
    "PW = cbind(ind_pref[,1:2], PW)\n",
    "head(PW)"
   ]
  },
  {
   "cell_type": "code",
   "execution_count": 8,
   "metadata": {},
   "outputs": [
    {
     "data": {
      "text/html": [
       "<table>\n",
       "<thead><tr><th scope=col>price.imp</th><th scope=col>battery.imp</th><th scope=col>weight.imp</th><th scope=col>sound.imp</th></tr></thead>\n",
       "<tbody>\n",
       "\t<tr><td>0.30801521</td><td>0.1903560 </td><td>0.11105123</td><td>0.3905775 </td></tr>\n",
       "\t<tr><td>0.40789120</td><td>0.1023247 </td><td>0.08714704</td><td>0.4026370 </td></tr>\n",
       "\t<tr><td>0.03732789</td><td>0.1888290 </td><td>0.15951925</td><td>0.6143239 </td></tr>\n",
       "\t<tr><td>0.22820869</td><td>0.1755988 </td><td>0.14873294</td><td>0.4474595 </td></tr>\n",
       "\t<tr><td>0.44586906</td><td>0.2066027 </td><td>0.16779843</td><td>0.1797298 </td></tr>\n",
       "\t<tr><td>0.21930483</td><td>0.3285300 </td><td>0.23342458</td><td>0.2187406 </td></tr>\n",
       "</tbody>\n",
       "</table>\n"
      ],
      "text/latex": [
       "\\begin{tabular}{r|llll}\n",
       " price.imp & battery.imp & weight.imp & sound.imp\\\\\n",
       "\\hline\n",
       "\t 0.30801521 & 0.1903560  & 0.11105123 & 0.3905775 \\\\\n",
       "\t 0.40789120 & 0.1023247  & 0.08714704 & 0.4026370 \\\\\n",
       "\t 0.03732789 & 0.1888290  & 0.15951925 & 0.6143239 \\\\\n",
       "\t 0.22820869 & 0.1755988  & 0.14873294 & 0.4474595 \\\\\n",
       "\t 0.44586906 & 0.2066027  & 0.16779843 & 0.1797298 \\\\\n",
       "\t 0.21930483 & 0.3285300  & 0.23342458 & 0.2187406 \\\\\n",
       "\\end{tabular}\n"
      ],
      "text/markdown": [
       "\n",
       "price.imp | battery.imp | weight.imp | sound.imp | \n",
       "|---|---|---|---|---|---|\n",
       "| 0.30801521 | 0.1903560  | 0.11105123 | 0.3905775  | \n",
       "| 0.40789120 | 0.1023247  | 0.08714704 | 0.4026370  | \n",
       "| 0.03732789 | 0.1888290  | 0.15951925 | 0.6143239  | \n",
       "| 0.22820869 | 0.1755988  | 0.14873294 | 0.4474595  | \n",
       "| 0.44586906 | 0.2066027  | 0.16779843 | 0.1797298  | \n",
       "| 0.21930483 | 0.3285300  | 0.23342458 | 0.2187406  | \n",
       "\n",
       "\n"
      ],
      "text/plain": [
       "  price.imp  battery.imp weight.imp sound.imp\n",
       "1 0.30801521 0.1903560   0.11105123 0.3905775\n",
       "2 0.40789120 0.1023247   0.08714704 0.4026370\n",
       "3 0.03732789 0.1888290   0.15951925 0.6143239\n",
       "4 0.22820869 0.1755988   0.14873294 0.4474595\n",
       "5 0.44586906 0.2066027   0.16779843 0.1797298\n",
       "6 0.21930483 0.3285300   0.23342458 0.2187406"
      ]
     },
     "metadata": {},
     "output_type": "display_data"
    }
   ],
   "source": [
    "#scale price coef to represent utilitz change per 10 USD price change\n",
    "price.imp = 80/10 * abs(ind_pref$price)\n",
    "importance = data.frame(price.imp)\n",
    "\n",
    "cols = names(ind_pref)\n",
    "for(att in c(\"battery\", \"weight\", \"sound\")){\n",
    "  attribute_cols = cols[grep(att, cols)]\n",
    "  range_name = paste0(att, '.imp')\n",
    "  importance[,range_name] = apply(ind_pref[,attribute_cols],1,function(x) abs(max(x) - min(x)))\n",
    "}\n",
    "\n",
    "rs = rowSums(importance)\n",
    "rel.imp = apply(importance,2, function(x) x/rs)\n",
    "rel.imp = data.frame(rel.imp)\n",
    "\n",
    "ind_pref = cbind(ind_pref, rel.imp)\n",
    "head(rel.imp)"
   ]
  },
  {
   "cell_type": "code",
   "execution_count": 9,
   "metadata": {},
   "outputs": [
    {
     "data": {
      "text/html": [
       "<table>\n",
       "<thead><tr><th scope=col>battery1.WTP</th><th scope=col>battery2.WTP</th><th scope=col>battery3.WTP</th><th scope=col>battery4.WTP</th><th scope=col>battery5.WTP</th><th scope=col>battery.imp.WTP</th><th scope=col>weight1.WTP</th><th scope=col>weight2.WTP</th><th scope=col>weight3.WTP</th><th scope=col>weight4.WTP</th><th scope=col>weight.imp.WTP</th><th scope=col>sound1.WTP</th><th scope=col>sound2.WTP</th><th scope=col>sound3.WTP</th><th scope=col>sound4.WTP</th><th scope=col>sound.imp.WTP</th></tr></thead>\n",
       "<tbody>\n",
       "\t<tr><td>-10.386890 </td><td>-2.201070  </td><td>-0.01069482</td><td>2.0411790  </td><td>5.2114228  </td><td>0          </td><td>3.5198174  </td><td>0.7137110  </td><td>-1.14854713</td><td>-5.5800352 </td><td>0          </td><td>-19.512568 </td><td>-4.6227131 </td><td>2.8674826  </td><td>12.492461  </td><td>0          </td></tr>\n",
       "\t<tr><td> -5.437726 </td><td>-1.979992  </td><td> 0.70653677</td><td>2.9091969  </td><td>0.5024642  </td><td>0          </td><td>2.3510045  </td><td>0.4617389  </td><td>-0.30299786</td><td>-4.7578303 </td><td>0          </td><td>-20.898988 </td><td>-5.1004755 </td><td>3.6675825  </td><td>11.945273  </td><td>0          </td></tr>\n",
       "\t<tr><td> -0.793565 </td><td>-0.197205  </td><td> 0.01074143</td><td>0.2040115  </td><td>0.2879382  </td><td>0          </td><td>0.2944506  </td><td>0.0885573  </td><td>-0.09368056</td><td>-0.6191834 </td><td>0          </td><td> -2.099725 </td><td>-0.7346219 </td><td>0.1452722  </td><td> 1.418767  </td><td>0          </td></tr>\n",
       "\t<tr><td> -5.518786 </td><td>-1.568429  </td><td> 0.11619892</td><td>1.2353853  </td><td>2.5557506  </td><td>0          </td><td>1.9362256  </td><td>1.2607316  </td><td>-0.44871421</td><td>-4.9029400 </td><td>0          </td><td>-12.195789 </td><td>-4.6823205 </td><td>2.0160753  </td><td> 8.379679  </td><td>0          </td></tr>\n",
       "\t<tr><td>-13.650357 </td><td>-3.015538  </td><td>-0.36337601</td><td>2.6092954  </td><td>6.7556250  </td><td>0          </td><td>6.6433613  </td><td>0.3850129  </td><td>-2.07827882</td><td>-9.9299579 </td><td>0          </td><td>-12.270464 </td><td>-3.4098918 </td><td>5.4813116  </td><td> 4.865086  </td><td>0          </td></tr>\n",
       "\t<tr><td> -4.292180 </td><td>-1.288555  </td><td>-0.19594522</td><td>0.7680809  </td><td>1.4218070  </td><td>0          </td><td>1.4109229  </td><td>0.2223106  </td><td>-1.02306657</td><td>-2.6489349 </td><td>0          </td><td> -2.398360 </td><td>-1.1175076 </td><td>1.4061057  </td><td> 0.199246  </td><td>0          </td></tr>\n",
       "</tbody>\n",
       "</table>\n"
      ],
      "text/latex": [
       "\\begin{tabular}{r|llllllllllllllll}\n",
       " battery1.WTP & battery2.WTP & battery3.WTP & battery4.WTP & battery5.WTP & battery.imp.WTP & weight1.WTP & weight2.WTP & weight3.WTP & weight4.WTP & weight.imp.WTP & sound1.WTP & sound2.WTP & sound3.WTP & sound4.WTP & sound.imp.WTP\\\\\n",
       "\\hline\n",
       "\t -10.386890  & -2.201070   & -0.01069482 & 2.0411790   & 5.2114228   & 0           & 3.5198174   & 0.7137110   & -1.14854713 & -5.5800352  & 0           & -19.512568  & -4.6227131  & 2.8674826   & 12.492461   & 0          \\\\\n",
       "\t  -5.437726  & -1.979992   &  0.70653677 & 2.9091969   & 0.5024642   & 0           & 2.3510045   & 0.4617389   & -0.30299786 & -4.7578303  & 0           & -20.898988  & -5.1004755  & 3.6675825   & 11.945273   & 0          \\\\\n",
       "\t  -0.793565  & -0.197205   &  0.01074143 & 0.2040115   & 0.2879382   & 0           & 0.2944506   & 0.0885573   & -0.09368056 & -0.6191834  & 0           &  -2.099725  & -0.7346219  & 0.1452722   &  1.418767   & 0          \\\\\n",
       "\t  -5.518786  & -1.568429   &  0.11619892 & 1.2353853   & 2.5557506   & 0           & 1.9362256   & 1.2607316   & -0.44871421 & -4.9029400  & 0           & -12.195789  & -4.6823205  & 2.0160753   &  8.379679   & 0          \\\\\n",
       "\t -13.650357  & -3.015538   & -0.36337601 & 2.6092954   & 6.7556250   & 0           & 6.6433613   & 0.3850129   & -2.07827882 & -9.9299579  & 0           & -12.270464  & -3.4098918  & 5.4813116   &  4.865086   & 0          \\\\\n",
       "\t  -4.292180  & -1.288555   & -0.19594522 & 0.7680809   & 1.4218070   & 0           & 1.4109229   & 0.2223106   & -1.02306657 & -2.6489349  & 0           &  -2.398360  & -1.1175076  & 1.4061057   &  0.199246   & 0          \\\\\n",
       "\\end{tabular}\n"
      ],
      "text/markdown": [
       "\n",
       "battery1.WTP | battery2.WTP | battery3.WTP | battery4.WTP | battery5.WTP | battery.imp.WTP | weight1.WTP | weight2.WTP | weight3.WTP | weight4.WTP | weight.imp.WTP | sound1.WTP | sound2.WTP | sound3.WTP | sound4.WTP | sound.imp.WTP | \n",
       "|---|---|---|---|---|---|\n",
       "| -10.386890  | -2.201070   | -0.01069482 | 2.0411790   | 5.2114228   | 0           | 3.5198174   | 0.7137110   | -1.14854713 | -5.5800352  | 0           | -19.512568  | -4.6227131  | 2.8674826   | 12.492461   | 0           | \n",
       "|  -5.437726  | -1.979992   |  0.70653677 | 2.9091969   | 0.5024642   | 0           | 2.3510045   | 0.4617389   | -0.30299786 | -4.7578303  | 0           | -20.898988  | -5.1004755  | 3.6675825   | 11.945273   | 0           | \n",
       "|  -0.793565  | -0.197205   |  0.01074143 | 0.2040115   | 0.2879382   | 0           | 0.2944506   | 0.0885573   | -0.09368056 | -0.6191834  | 0           |  -2.099725  | -0.7346219  | 0.1452722   |  1.418767   | 0           | \n",
       "|  -5.518786  | -1.568429   |  0.11619892 | 1.2353853   | 2.5557506   | 0           | 1.9362256   | 1.2607316   | -0.44871421 | -4.9029400  | 0           | -12.195789  | -4.6823205  | 2.0160753   |  8.379679   | 0           | \n",
       "| -13.650357  | -3.015538   | -0.36337601 | 2.6092954   | 6.7556250   | 0           | 6.6433613   | 0.3850129   | -2.07827882 | -9.9299579  | 0           | -12.270464  | -3.4098918  | 5.4813116   |  4.865086   | 0           | \n",
       "|  -4.292180  | -1.288555   | -0.19594522 | 0.7680809   | 1.4218070   | 0           | 1.4109229   | 0.2223106   | -1.02306657 | -2.6489349  | 0           |  -2.398360  | -1.1175076  | 1.4061057   |  0.199246   | 0           | \n",
       "\n",
       "\n"
      ],
      "text/plain": [
       "  battery1.WTP battery2.WTP battery3.WTP battery4.WTP battery5.WTP\n",
       "1 -10.386890   -2.201070    -0.01069482  2.0411790    5.2114228   \n",
       "2  -5.437726   -1.979992     0.70653677  2.9091969    0.5024642   \n",
       "3  -0.793565   -0.197205     0.01074143  0.2040115    0.2879382   \n",
       "4  -5.518786   -1.568429     0.11619892  1.2353853    2.5557506   \n",
       "5 -13.650357   -3.015538    -0.36337601  2.6092954    6.7556250   \n",
       "6  -4.292180   -1.288555    -0.19594522  0.7680809    1.4218070   \n",
       "  battery.imp.WTP weight1.WTP weight2.WTP weight3.WTP weight4.WTP\n",
       "1 0               3.5198174   0.7137110   -1.14854713 -5.5800352 \n",
       "2 0               2.3510045   0.4617389   -0.30299786 -4.7578303 \n",
       "3 0               0.2944506   0.0885573   -0.09368056 -0.6191834 \n",
       "4 0               1.9362256   1.2607316   -0.44871421 -4.9029400 \n",
       "5 0               6.6433613   0.3850129   -2.07827882 -9.9299579 \n",
       "6 0               1.4109229   0.2223106   -1.02306657 -2.6489349 \n",
       "  weight.imp.WTP sound1.WTP sound2.WTP sound3.WTP sound4.WTP sound.imp.WTP\n",
       "1 0              -19.512568 -4.6227131 2.8674826  12.492461  0            \n",
       "2 0              -20.898988 -5.1004755 3.6675825  11.945273  0            \n",
       "3 0               -2.099725 -0.7346219 0.1452722   1.418767  0            \n",
       "4 0              -12.195789 -4.6823205 2.0160753   8.379679  0            \n",
       "5 0              -12.270464 -3.4098918 5.4813116   4.865086  0            \n",
       "6 0               -2.398360 -1.1175076 1.4061057   0.199246  0            "
      ]
     },
     "metadata": {},
     "output_type": "display_data"
    }
   ],
   "source": [
    "#Calculate Willingness to pay \n",
    "\n",
    "for(att in c(\"battery\", \"weight\", \"sound\")){\n",
    "  attribute_cols = cols[grep(att, cols)]\n",
    "  \n",
    "  for(col in attribute_cols){\n",
    "    #get WTP per column by deviding through ommited column and multiplying with price coef\n",
    "    col_WTP = (ind_pref[,col] - ind_pref[,attribute_cols[length(attribute_cols)]]) * abs(ind_pref$price) * 10\n",
    "    \n",
    "    wtp_name = paste0(col, \".WTP\")\n",
    "    ind_pref[,wtp_name] = col_WTP\n",
    "  }\n",
    "  \n",
    "  \n",
    "  range_name = paste0(att, '.imp')\n",
    "  importance[,range_name] = apply(ind_pref[,attribute_cols],1,function(x) abs(max(x) - min(x)))\n",
    "}\n",
    "\n",
    "WTP = ind_pref[,names(ind_pref)[grep(\"WTP\", names(ind_pref))]]\n",
    "#WTP = cbind(clust = ind_pref$clust, WTP)\n",
    "head(WTP)"
   ]
  }
 ],
 "metadata": {
  "kernelspec": {
   "display_name": "R",
   "language": "R",
   "name": "ir"
  },
  "language_info": {
   "codemirror_mode": "r",
   "file_extension": ".r",
   "mimetype": "text/x-r-source",
   "name": "R",
   "pygments_lexer": "r",
   "version": "3.4.1"
  }
 },
 "nbformat": 4,
 "nbformat_minor": 2
}
